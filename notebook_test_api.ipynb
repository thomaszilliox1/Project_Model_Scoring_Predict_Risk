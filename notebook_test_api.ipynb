{
 "cells": [
  {
   "cell_type": "code",
   "execution_count": 1,
   "id": "b9291774",
   "metadata": {},
   "outputs": [
    {
     "name": "stdout",
     "output_type": "stream",
     "text": [
      "Collecting pytest\n",
      "  Downloading pytest-8.4.2-py3-none-any.whl.metadata (7.7 kB)\n",
      "Collecting iniconfig>=1 (from pytest)\n",
      "  Downloading iniconfig-2.1.0-py3-none-any.whl.metadata (2.7 kB)\n",
      "Requirement already satisfied: packaging>=20 in ./lib/python3.12/site-packages (from pytest) (25.0)\n",
      "Collecting pluggy<2,>=1.5 (from pytest)\n",
      "  Downloading pluggy-1.6.0-py3-none-any.whl.metadata (4.8 kB)\n",
      "Requirement already satisfied: pygments>=2.7.2 in ./lib/python3.12/site-packages (from pytest) (2.19.2)\n",
      "Downloading pytest-8.4.2-py3-none-any.whl (365 kB)\n",
      "\u001b[2K   \u001b[90m━━━━━━━━━━━━━━━━━━━━━━━━━━━━━━━━━━━━━━━━\u001b[0m \u001b[32m365.8/365.8 kB\u001b[0m \u001b[31m11.3 MB/s\u001b[0m eta \u001b[36m0:00:00\u001b[0m\n",
      "\u001b[?25hDownloading iniconfig-2.1.0-py3-none-any.whl (6.0 kB)\n",
      "Downloading pluggy-1.6.0-py3-none-any.whl (20 kB)\n",
      "Installing collected packages: pluggy, iniconfig, pytest\n",
      "Successfully installed iniconfig-2.1.0 pluggy-1.6.0 pytest-8.4.2\n",
      "\n",
      "\u001b[1m[\u001b[0m\u001b[34;49mnotice\u001b[0m\u001b[1;39;49m]\u001b[0m\u001b[39;49m A new release of pip is available: \u001b[0m\u001b[31;49m24.0\u001b[0m\u001b[39;49m -> \u001b[0m\u001b[32;49m25.2\u001b[0m\n",
      "\u001b[1m[\u001b[0m\u001b[34;49mnotice\u001b[0m\u001b[1;39;49m]\u001b[0m\u001b[39;49m To update, run: \u001b[0m\u001b[32;49mpip install --upgrade pip\u001b[0m\n",
      "Note: you may need to restart the kernel to use updated packages.\n"
     ]
    }
   ],
   "source": [
    "pip install pytest"
   ]
  },
  {
   "cell_type": "code",
   "execution_count": 2,
   "id": "cbc6568c",
   "metadata": {},
   "outputs": [],
   "source": [
    "import pytest      \n"
   ]
  },
  {
   "cell_type": "code",
   "execution_count": null,
   "id": "e3abeff7",
   "metadata": {},
   "outputs": [],
   "source": [
    "import json\n",
    "import requests\n",
    "\n",
    "API_BASE_URL = \"http://....\"\n",
    "API_GET = \"/get_client/\"\n",
    "\n",
    "HTTPS_TIMEOUT = 30                                                 \n",
    "GOOD_ID_CLIENT = 456242\n",
    "BAD_ID_CLIENT  = 207109\n",
    "BAD_ID_FORMAT  = 45\n",
    "\n",
    "GOOD_DICT_CLIENT = {\"SK_ID_CURR\": 456242,\n",
    "                    \"FLAG_OWN_REALTY\": 1,\n",
    "                    \"FLAG_OWN_CAR\": 1,\n",
    "                    \"OWN_CAR_AGE\": 10,\n",
    "                    \"NAME_INCOME_TYPE_Working\": 0,\n",
    "                    \"DAYS_EMPLOYED\": -3689,\n",
    "                    \"AMT_GOODS_PRICE\": 1125000,\n",
    "                    \"AMT_CREDIT_SUM_mean\": 1312110,\n",
    "                    \"EXT_SOURCE_1\": 0.5021298056566625,\n",
    "                    \"EXT_SOURCE_2\": 0.746258730569961,\n",
    "                    \"EXT_SOURCE_3\": 0.4066174366275036}\n",
    "\n",
    "BAD_DICT_ID_CLIENT = {\"SK_ID_CURR\": 207109,\n",
    "                      \"FLAG_OWN_REALTY\": 1,\n",
    "                      \"FLAG_OWN_CAR\": 0,\n",
    "                      \"OWN_CAR_AGE\": 12.061090818687727,\n",
    "                      \"NAME_INCOME_TYPE_Working\": 0,\n",
    "                      \"DAYS_EMPLOYED\": -768,\n",
    "                      \"AMT_GOODS_PRICE\": 553500,\n",
    "                      \"AMT_CREDIT_SUM_mean\": 641173.5,\n",
    "                      \"EXT_SOURCE_1\": 0.8427634659543568,\n",
    "                      \"EXT_SOURCE_2\": 0.6816988025574287,\n",
    "                      \"EXT_SOURCE_3\": 0.7544061731797895}\n",
    "\n",
    "BAD_DICT_FORMAT = {\"SK_ID_CURR\": 207108,\n",
    "                   \"FLAG_OWN_REALTY\": 1,\n",
    "                   \"FLAG_OWN_CAR\": 0,\n",
    "                   \"OWN_CAR_AGE\": 12.061090818687727,\n",
    "                   \"AMT_CREDIT_SUM_mean\": 641173.5,\n",
    "                   \"EXT_SOURCE_1\": 0.8427634659543568,\n",
    "                   \"EXT_SOURCE_2\": 0.6816988025574287,\n",
    "                   \"EXT_SOURCE_3\": 0.7544061731797895}\n",
    "\n",
    "def test_get():\n",
    "    # Test un id qui n'est pas dans la fourchette des id du serveur\n",
    "    result = requests.get(f\"{API_BASE_URL}{API_GET}{BAD_ID_FORMAT}\", timeout=HTTPS_TIMEOUT)\n",
    "    assert result.status_code == 422, \"Le serveur n'a pas répondu 422 comme attendu\"\n",
    "\n",
    "    # Test un id inconnu du serveur\n",
    "    result = requests.get(f\"{API_BASE_URL}{API_GET}{BAD_ID_CLIENT}\", timeout=HTTPS_TIMEOUT)\n",
    "    assert result.status_code == 404, \"Le serveur n'a pas répondu 404 comme attendu\"\n",
    "\n",
    "    result = requests.get(f\"{API_BASE_URL}{API_GET}{GOOD_ID_CLIENT}\", timeout=HTTPS_TIMEOUT)\n",
    "    assert result.status_code == 200, \"Le serveur n'a pas répondu 200 comme attendu\"\n",
    "\n",
    "    # Decode et convertie le JSON format en dictionaire\n",
    "    dict_obj = json.loads(result.content)\n",
    "    assert len(dict_obj) == 14, \"Le client retourné par le serveur doit contenir 14 valeurs\"\n",
    "\n",
    "test_get()"
   ]
  }
 ],
 "metadata": {
  "kernelspec": {
   "display_name": "envprojet7",
   "language": "python",
   "name": "python3"
  },
  "language_info": {
   "codemirror_mode": {
    "name": "ipython",
    "version": 3
   },
   "file_extension": ".py",
   "mimetype": "text/x-python",
   "name": "python",
   "nbconvert_exporter": "python",
   "pygments_lexer": "ipython3",
   "version": "3.12.4"
  }
 },
 "nbformat": 4,
 "nbformat_minor": 5
}
